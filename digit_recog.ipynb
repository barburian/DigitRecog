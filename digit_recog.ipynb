{
 "metadata": {
  "language_info": {
   "codemirror_mode": {
    "name": "ipython",
    "version": 3
   },
   "file_extension": ".py",
   "mimetype": "text/x-python",
   "name": "python",
   "nbconvert_exporter": "python",
   "pygments_lexer": "ipython3",
   "version": "3.8.10"
  },
  "orig_nbformat": 2,
  "kernelspec": {
   "name": "pythonjvsc74a57bd08098b4d2b8e8ef8ee35a2686d49f8295e5a43ab4024c7441aa4bced7add4c9b0",
   "display_name": "Python 3.8.10  ('Digit_Recognision': venv)"
  },
  "metadata": {
   "interpreter": {
    "hash": "8098b4d2b8e8ef8ee35a2686d49f8295e5a43ab4024c7441aa4bced7add4c9b0"
   }
  }
 },
 "nbformat": 4,
 "nbformat_minor": 2,
 "cells": [
  {
   "cell_type": "code",
   "execution_count": 20,
   "metadata": {},
   "outputs": [],
   "source": [
    "import torch as torch"
   ]
  },
  {
   "cell_type": "code",
   "execution_count": null,
   "metadata": {},
   "outputs": [],
   "source": [
    "t1= torch.tensor([\n",
    " [1,1,1,1],\n",
    " [1,1,1,1],\n",
    " [1,1,1,1],\n",
    " [1,1,1,1]   \n",
    "])\n",
    "t2= torch.tensor([\n",
    " [2,2,2,2],\n",
    " [2,2,2,2],\n",
    " [2,2,2,2],\n",
    " [2,2,2,2]   \n",
    "])\n",
    "t3= torch.tensor([\n",
    " [3,3,3,3],\n",
    " [3,3,3,3],\n",
    " [3,3,3,3],\n",
    " [3,3,3,3]   \n",
    "])"
   ]
  }
 ]
}